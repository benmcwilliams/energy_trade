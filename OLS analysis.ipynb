{
 "cells": [
  {
   "cell_type": "markdown",
   "metadata": {},
   "source": [
    "Perhaps we should perform some clustering of products before running regression? "
   ]
  },
  {
   "cell_type": "code",
   "execution_count": 26,
   "metadata": {},
   "outputs": [],
   "source": [
    "import pandas as pd\n",
    "from sklearn.preprocessing import StandardScaler\n",
    "import statsmodels.api as sm\n",
    "\n",
    "dff = pd.read_csv('merged_df.csv')\n",
    "df = dff[['country','product','rca','price','labour','capital']].copy()\n",
    "product_dict_df = pd.read_csv('BACI_HS17_V202401/product_codes_HS17_V202401.csv')\n",
    "product_dict = dict(zip(product_dict_df['code'], product_dict_df['description']))"
   ]
  },
  {
   "cell_type": "code",
   "execution_count": 27,
   "metadata": {},
   "outputs": [
    {
     "name": "stdout",
     "output_type": "stream",
     "text": [
      "Missing values per column:\n",
      " country    0\n",
      "product    0\n",
      "rca        0\n",
      "price      0\n",
      "labour     0\n",
      "capital    0\n",
      "dtype: int64\n"
     ]
    }
   ],
   "source": [
    "# check for missing values\n",
    "missing_values = df.isnull().sum()\n",
    "print(\"Missing values per column:\\n\", missing_values)\n",
    "df_clean = df.dropna()"
   ]
  },
  {
   "cell_type": "code",
   "execution_count": 13,
   "metadata": {},
   "outputs": [],
   "source": [
    "# Normalising the explanatory variables\n",
    "# Select independent variables\n",
    "independent_vars = ['price', 'labour', 'capital']\n",
    "\n",
    "# Initialize the scaler\n",
    "scaler = StandardScaler()\n",
    "\n",
    "# Fit and transform the independent variables\n",
    "df_clean[independent_vars] = scaler.fit_transform(df_clean[independent_vars])"
   ]
  },
  {
   "cell_type": "code",
   "execution_count": 42,
   "metadata": {},
   "outputs": [],
   "source": [
    "def analyze_product(df, product_code):\n",
    "    \"\"\"\n",
    "    Perform linear regression on a specific product code.\n",
    "    \n",
    "    Args:\n",
    "    - df (DataFrame): Input DataFrame containing the relevant product data.\n",
    "    - product_code (str or int): HS code of the product to analyze.\n",
    "    \n",
    "    Returns:\n",
    "    - (float): Coefficient of the energy price\n",
    "    \"\"\"\n",
    "    # Filter the data to include only the specified product\n",
    "    product_data = df[df['product'] == product_code]\n",
    "    \n",
    "    # Set dependent and independent variables\n",
    "    X = product_data[['price', 'labour', 'capital']]\n",
    "    y = product_data['rca']\n",
    "    \n",
    "    # Add a constant to the model (for the intercept)\n",
    "    X = sm.add_constant(X)\n",
    "    \n",
    "    # Fit the model\n",
    "    model = sm.OLS(y, X).fit()\n",
    "    \n",
    "    # Return the coefficient of energy price ('price')\n",
    "    return model.params['price']"
   ]
  },
  {
   "cell_type": "code",
   "execution_count": 43,
   "metadata": {},
   "outputs": [],
   "source": [
    "# Get the unique product codes\n",
    "unique_products = df_clean['product'].unique()\n",
    "\n",
    "# Create a dictionary to store coefficients\n",
    "price_coefficients = {}\n",
    "\n",
    "# Analyze each product\n",
    "for product_code in unique_products:\n",
    "    coefficient = analyze_product(df_clean, product_code)\n",
    "    price_coefficients[product_code] = coefficient\n",
    "\n",
    "# Convert to a DataFrame for ranking\n",
    "coeff_df = pd.DataFrame.from_dict(price_coefficients, orient='index', columns=['price_coefficient'])\n",
    "coeff_df.index.name = 'product'\n",
    "coeff_df.reset_index(inplace=True)\n",
    "\n",
    "# Rank products by price sensitivity\n",
    "coeff_df = coeff_df.sort_values(by='price_coefficient', ascending=False)"
   ]
  },
  {
   "cell_type": "code",
   "execution_count": 44,
   "metadata": {},
   "outputs": [],
   "source": [
    "coeff_df['product_desc'] = coeff_df['product'].map(product_dict)"
   ]
  },
  {
   "cell_type": "code",
   "execution_count": 36,
   "metadata": {},
   "outputs": [],
   "source": [
    "coeff_df.to_csv('OLS.csv')"
   ]
  },
  {
   "cell_type": "code",
   "execution_count": 45,
   "metadata": {},
   "outputs": [
    {
     "data": {
      "text/html": [
       "<div>\n",
       "<style scoped>\n",
       "    .dataframe tbody tr th:only-of-type {\n",
       "        vertical-align: middle;\n",
       "    }\n",
       "\n",
       "    .dataframe tbody tr th {\n",
       "        vertical-align: top;\n",
       "    }\n",
       "\n",
       "    .dataframe thead th {\n",
       "        text-align: right;\n",
       "    }\n",
       "</style>\n",
       "<table border=\"1\" class=\"dataframe\">\n",
       "  <thead>\n",
       "    <tr style=\"text-align: right;\">\n",
       "      <th></th>\n",
       "      <th>product</th>\n",
       "      <th>price_coefficient</th>\n",
       "      <th>product_desc</th>\n",
       "    </tr>\n",
       "  </thead>\n",
       "  <tbody>\n",
       "    <tr>\n",
       "      <th>3482</th>\n",
       "      <td>854012</td>\n",
       "      <td>155.604816</td>\n",
       "      <td>Tubes: cathode-ray television picture tubes, i...</td>\n",
       "    </tr>\n",
       "    <tr>\n",
       "      <th>410</th>\n",
       "      <td>90710</td>\n",
       "      <td>132.184003</td>\n",
       "      <td>Spices: cloves (whole fruit, cloves and stems)...</td>\n",
       "    </tr>\n",
       "    <tr>\n",
       "      <th>1171</th>\n",
       "      <td>71440</td>\n",
       "      <td>126.793113</td>\n",
       "      <td>Vegetable roots and tubers: taro (Colocasia sp...</td>\n",
       "    </tr>\n",
       "    <tr>\n",
       "      <th>4323</th>\n",
       "      <td>120300</td>\n",
       "      <td>120.798451</td>\n",
       "      <td>Copra</td>\n",
       "    </tr>\n",
       "    <tr>\n",
       "      <th>5113</th>\n",
       "      <td>30784</td>\n",
       "      <td>98.917434</td>\n",
       "      <td>Molluscs: stromboid conchs (Strombus spp.), wh...</td>\n",
       "    </tr>\n",
       "    <tr>\n",
       "      <th>...</th>\n",
       "      <td>...</td>\n",
       "      <td>...</td>\n",
       "      <td>...</td>\n",
       "    </tr>\n",
       "    <tr>\n",
       "      <th>5111</th>\n",
       "      <td>30292</td>\n",
       "      <td>-49.622482</td>\n",
       "      <td>Fish: fresh or chilled, shark fins</td>\n",
       "    </tr>\n",
       "    <tr>\n",
       "      <th>3608</th>\n",
       "      <td>251810</td>\n",
       "      <td>-56.946503</td>\n",
       "      <td>Dolomite, not calcined or sintered: including ...</td>\n",
       "    </tr>\n",
       "    <tr>\n",
       "      <th>5104</th>\n",
       "      <td>261220</td>\n",
       "      <td>-60.843827</td>\n",
       "      <td>Thorium ores and concentrates</td>\n",
       "    </tr>\n",
       "    <tr>\n",
       "      <th>904</th>\n",
       "      <td>500100</td>\n",
       "      <td>-69.887780</td>\n",
       "      <td>Silk: silk-worm cocoons suitable for reeling</td>\n",
       "    </tr>\n",
       "    <tr>\n",
       "      <th>4644</th>\n",
       "      <td>261710</td>\n",
       "      <td>-109.982167</td>\n",
       "      <td>Antimony ores and concentrates</td>\n",
       "    </tr>\n",
       "  </tbody>\n",
       "</table>\n",
       "<p>5381 rows × 3 columns</p>\n",
       "</div>"
      ],
      "text/plain": [
       "      product  price_coefficient  \\\n",
       "3482   854012         155.604816   \n",
       "410     90710         132.184003   \n",
       "1171    71440         126.793113   \n",
       "4323   120300         120.798451   \n",
       "5113    30784          98.917434   \n",
       "...       ...                ...   \n",
       "5111    30292         -49.622482   \n",
       "3608   251810         -56.946503   \n",
       "5104   261220         -60.843827   \n",
       "904    500100         -69.887780   \n",
       "4644   261710        -109.982167   \n",
       "\n",
       "                                           product_desc  \n",
       "3482  Tubes: cathode-ray television picture tubes, i...  \n",
       "410   Spices: cloves (whole fruit, cloves and stems)...  \n",
       "1171  Vegetable roots and tubers: taro (Colocasia sp...  \n",
       "4323                                              Copra  \n",
       "5113  Molluscs: stromboid conchs (Strombus spp.), wh...  \n",
       "...                                                 ...  \n",
       "5111                 Fish: fresh or chilled, shark fins  \n",
       "3608  Dolomite, not calcined or sintered: including ...  \n",
       "5104                      Thorium ores and concentrates  \n",
       "904        Silk: silk-worm cocoons suitable for reeling  \n",
       "4644                     Antimony ores and concentrates  \n",
       "\n",
       "[5381 rows x 3 columns]"
      ]
     },
     "execution_count": 45,
     "metadata": {},
     "output_type": "execute_result"
    }
   ],
   "source": [
    "coeff_df"
   ]
  },
  {
   "cell_type": "code",
   "execution_count": null,
   "metadata": {},
   "outputs": [],
   "source": []
  }
 ],
 "metadata": {
  "kernelspec": {
   "display_name": "bruvenv",
   "language": "python",
   "name": "python3"
  },
  "language_info": {
   "codemirror_mode": {
    "name": "ipython",
    "version": 3
   },
   "file_extension": ".py",
   "mimetype": "text/x-python",
   "name": "python",
   "nbconvert_exporter": "python",
   "pygments_lexer": "ipython3",
   "version": "3.10.8"
  }
 },
 "nbformat": 4,
 "nbformat_minor": 2
}
