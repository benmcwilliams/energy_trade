{
 "cells": [
  {
   "cell_type": "code",
   "execution_count": 1,
   "metadata": {},
   "outputs": [],
   "source": [
    "import pandas as pd\n",
    "from sklearn.feature_extraction.text import TfidfVectorizer\n",
    "import nltk\n",
    "from nltk.corpus import stopwords\n",
    "import string\n",
    "\n",
    "product_dict_df = pd.read_csv('BACI_HS17_V202401/product_codes_HS17_V202401.csv')\n",
    "product_dict_df = product_dict_df.set_index('code')\n",
    "product_dict = product_dict_df.to_dict()['description']"
   ]
  },
  {
   "cell_type": "code",
   "execution_count": 2,
   "metadata": {},
   "outputs": [],
   "source": [
    "dff = pd.read_csv('product_clusters.csv')\n",
    "df = dff[['product','Cluster']].copy()\n",
    "df['product_name'] = df['product'].map(product_dict)"
   ]
  },
  {
   "cell_type": "markdown",
   "metadata": {},
   "source": [
    "### Preprocess the product names"
   ]
  },
  {
   "cell_type": "code",
   "execution_count": 3,
   "metadata": {},
   "outputs": [
    {
     "name": "stderr",
     "output_type": "stream",
     "text": [
      "[nltk_data] Downloading package stopwords to /Users/ben/nltk_data...\n",
      "[nltk_data]   Package stopwords is already up-to-date!\n"
     ]
    },
    {
     "data": {
      "text/html": [
       "<div>\n",
       "<style scoped>\n",
       "    .dataframe tbody tr th:only-of-type {\n",
       "        vertical-align: middle;\n",
       "    }\n",
       "\n",
       "    .dataframe tbody tr th {\n",
       "        vertical-align: top;\n",
       "    }\n",
       "\n",
       "    .dataframe thead th {\n",
       "        text-align: right;\n",
       "    }\n",
       "</style>\n",
       "<table border=\"1\" class=\"dataframe\">\n",
       "  <thead>\n",
       "    <tr style=\"text-align: right;\">\n",
       "      <th></th>\n",
       "      <th>product</th>\n",
       "      <th>Cluster</th>\n",
       "      <th>product_name</th>\n",
       "      <th>cleaned_name</th>\n",
       "    </tr>\n",
       "  </thead>\n",
       "  <tbody>\n",
       "    <tr>\n",
       "      <th>0</th>\n",
       "      <td>10121</td>\n",
       "      <td>1</td>\n",
       "      <td>Horses: live, pure-bred breeding animals</td>\n",
       "      <td>horses: live, pure-bred breeding animals</td>\n",
       "    </tr>\n",
       "    <tr>\n",
       "      <th>1</th>\n",
       "      <td>10129</td>\n",
       "      <td>1</td>\n",
       "      <td>Horses: live, other than pure-bred breeding an...</td>\n",
       "      <td>horses: live, pure-bred breeding animals</td>\n",
       "    </tr>\n",
       "    <tr>\n",
       "      <th>2</th>\n",
       "      <td>10130</td>\n",
       "      <td>1</td>\n",
       "      <td>Asses: live</td>\n",
       "      <td>asses: live</td>\n",
       "    </tr>\n",
       "    <tr>\n",
       "      <th>3</th>\n",
       "      <td>10190</td>\n",
       "      <td>1</td>\n",
       "      <td>Mules and hinnies: live</td>\n",
       "      <td>mules hinnies: live</td>\n",
       "    </tr>\n",
       "    <tr>\n",
       "      <th>4</th>\n",
       "      <td>10221</td>\n",
       "      <td>1</td>\n",
       "      <td>Cattle: live, pure-bred breeding animals</td>\n",
       "      <td>cattle: live, pure-bred breeding animals</td>\n",
       "    </tr>\n",
       "  </tbody>\n",
       "</table>\n",
       "</div>"
      ],
      "text/plain": [
       "   product  Cluster                                       product_name  \\\n",
       "0    10121        1           Horses: live, pure-bred breeding animals   \n",
       "1    10129        1  Horses: live, other than pure-bred breeding an...   \n",
       "2    10130        1                                        Asses: live   \n",
       "3    10190        1                            Mules and hinnies: live   \n",
       "4    10221        1           Cattle: live, pure-bred breeding animals   \n",
       "\n",
       "                               cleaned_name  \n",
       "0  horses: live, pure-bred breeding animals  \n",
       "1  horses: live, pure-bred breeding animals  \n",
       "2                               asses: live  \n",
       "3                       mules hinnies: live  \n",
       "4  cattle: live, pure-bred breeding animals  "
      ]
     },
     "execution_count": 3,
     "metadata": {},
     "output_type": "execute_result"
    }
   ],
   "source": [
    "# Preprocess product names\n",
    "nltk.download('stopwords')\n",
    "stop_words = set(stopwords.words('english') + list(string.punctuation))\n",
    "\n",
    "def preprocess(text):\n",
    "    return ' '.join([word.lower() for word in text.split() if word.lower() not in stop_words])\n",
    "\n",
    "df['cleaned_name'] = df['product_name'].apply(preprocess)\n",
    "df.head()"
   ]
  },
  {
   "cell_type": "markdown",
   "metadata": {},
   "source": [
    "### Group by the product clusters"
   ]
  },
  {
   "cell_type": "code",
   "execution_count": 4,
   "metadata": {},
   "outputs": [],
   "source": [
    "clustered_products = df.groupby('Cluster')['cleaned_name'].apply(list)\n",
    "clustered_products.to_csv('clustered_products.csv', header=True)"
   ]
  },
  {
   "cell_type": "markdown",
   "metadata": {},
   "source": [
    "### Convert text to vectors "
   ]
  },
  {
   "cell_type": "code",
   "execution_count": 5,
   "metadata": {},
   "outputs": [],
   "source": [
    "from sklearn.feature_extraction.text import TfidfVectorizer\n",
    "\n",
    "def vectorize_text(texts):\n",
    "    vectorizer = TfidfVectorizer()\n",
    "    X = vectorizer.fit_transform(texts)\n",
    "    return X, vectorizer\n",
    "\n",
    "# Create a dictionary to hold the vectorized text and vectorizer for each cluster\n",
    "cluster_vectors = {}\n",
    "\n",
    "for cluster, texts in clustered_products.items():\n",
    "    X, vectorizer = vectorize_text(texts)\n",
    "    cluster_vectors[cluster] = (X, vectorizer)"
   ]
  },
  {
   "cell_type": "markdown",
   "metadata": {},
   "source": [
    "### Apply topic modelling for each cluster"
   ]
  },
  {
   "cell_type": "code",
   "execution_count": 10,
   "metadata": {},
   "outputs": [],
   "source": [
    "from sklearn.decomposition import LatentDirichletAllocation\n",
    "\n",
    "def apply_lda(X, n_topics=5):\n",
    "    lda = LatentDirichletAllocation(n_components=n_topics, random_state=42)\n",
    "    lda.fit(X)\n",
    "    return lda\n",
    "\n",
    "# Create a dictionary to hold the LDA model for each cluster\n",
    "cluster_lda = {}\n",
    "\n",
    "for cluster, (X, vectorizer) in cluster_vectors.items():\n",
    "    lda = apply_lda(X)\n",
    "    cluster_lda[cluster] = (lda, vectorizer)"
   ]
  },
  {
   "cell_type": "markdown",
   "metadata": {},
   "source": [
    "### Interpret topics for each cluster"
   ]
  },
  {
   "cell_type": "code",
   "execution_count": 11,
   "metadata": {},
   "outputs": [
    {
     "name": "stdout",
     "output_type": "stream",
     "text": [
      "\n",
      "Cluster 0 Topics:\n",
      "Topic 0:\n",
      "seeds concentrates ores oil whether\n",
      "Topic 1:\n",
      "flowers cereals dried fresh ground\n",
      "Topic 2:\n",
      "fish 0303 fillets 0302 offal\n",
      "Topic 3:\n",
      "wood sawn planed jointed sanded\n",
      "Topic 4:\n",
      "fresh dried chilled tubers roots\n",
      "\n",
      "Cluster 1 Topics:\n",
      "Topic 0:\n",
      "fish meat offal acids edible\n",
      "Topic 1:\n",
      "steel rolled iron metal alloy\n",
      "Topic 2:\n",
      "electric whether apparatus no heading\n",
      "Topic 3:\n",
      "fabrics woven no paper weight\n",
      "Topic 4:\n",
      "crocheted knitted fibres derivatives copper\n",
      "\n",
      "Cluster 2 Topics:\n",
      "Topic 0:\n",
      "fillets excluding 0304 subheadings 91\n",
      "Topic 1:\n",
      "fillets excluding 0304 subheadings 91\n",
      "Topic 2:\n",
      "0303 fish yellowfin albacares frozen\n",
      "Topic 3:\n",
      "0303 fish bonito stripe skipjack\n",
      "Topic 4:\n",
      "0302 fish chilled fresh thunnus\n"
     ]
    }
   ],
   "source": [
    "def display_topics(model, feature_names, no_top_words):\n",
    "    for topic_idx, topic in enumerate(model.components_):\n",
    "        print(f\"Topic {topic_idx}:\")\n",
    "        print(\" \".join([feature_names[i] for i in topic.argsort()[:-no_top_words - 1:-1]]))\n",
    "\n",
    "no_top_words = 5\n",
    "\n",
    "# Display the top words for each topic in each cluster\n",
    "for cluster, (lda, vectorizer) in cluster_lda.items():\n",
    "    print(f\"\\nCluster {cluster} Topics:\")\n",
    "    display_topics(lda, vectorizer.get_feature_names_out(), no_top_words)"
   ]
  },
  {
   "cell_type": "code",
   "execution_count": null,
   "metadata": {},
   "outputs": [],
   "source": []
  }
 ],
 "metadata": {
  "kernelspec": {
   "display_name": "bruvenv",
   "language": "python",
   "name": "python3"
  },
  "language_info": {
   "codemirror_mode": {
    "name": "ipython",
    "version": 3
   },
   "file_extension": ".py",
   "mimetype": "text/x-python",
   "name": "python",
   "nbconvert_exporter": "python",
   "pygments_lexer": "ipython3",
   "version": "3.10.8"
  }
 },
 "nbformat": 4,
 "nbformat_minor": 2
}
